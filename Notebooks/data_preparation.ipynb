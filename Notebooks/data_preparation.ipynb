{
 "cells": [
  {
   "cell_type": "markdown",
   "metadata": {},
   "source": [
    "# Addressing Data Gaps with Machine Learning\n",
    "### Temperature Blanket Project"
   ]
  },
  {
   "cell_type": "code",
   "execution_count": 1,
   "metadata": {},
   "outputs": [],
   "source": [
    "# Load Dependencies\n",
    "import pandas as pd\n",
    "import os\n",
    "from pathlib import Path"
   ]
  },
  {
   "cell_type": "markdown",
   "metadata": {},
   "source": [
    "## Load and merge local temperature datasets"
   ]
  },
  {
   "cell_type": "code",
   "execution_count": 14,
   "metadata": {},
   "outputs": [
    {
     "name": "stdout",
     "output_type": "stream",
     "text": [
      "Merged dataset saved to: ../Resources/Processed/merged_data.csv\n"
     ]
    }
   ],
   "source": [
    "# Define the data dictionary\n",
    "raw_data_directory = '../Resources/Raw/'\n",
    "\n",
    "# Create a list of all csv files in data directory\n",
    "raw_csv_files = [file for file in os.listdir(raw_data_directory) if file.endswith('.csv')]\n",
    "\n",
    "# Load all csv files into a dataframe, then append them to a list\n",
    "dataframes = []\n",
    "\n",
    "for file in raw_csv_files:\n",
    "    file_path = os.path.join(raw_data_directory, file)\n",
    "    df = pd.read_csv(file_path, names=['date', 'temp_c', 'humidity'], header=0)\n",
    "    dataframes.append(df)\n",
    "\n",
    "# Merge all dataframes into one dataframe\n",
    "merged_df = pd.concat(dataframes, ignore_index=True)\n",
    "\n",
    "# Write the merged dataframe to a csv file\n",
    "output_file = '../Resources/Processed/merged_data.csv'\n",
    "merged_df.to_csv(output_file, index=False)\n",
    "\n",
    "print(\"Merged dataset saved to:\", output_file)\n"
   ]
  },
  {
   "cell_type": "code",
   "execution_count": 23,
   "metadata": {},
   "outputs": [
    {
     "data": {
      "text/html": [
       "<div>\n",
       "<style scoped>\n",
       "    .dataframe tbody tr th:only-of-type {\n",
       "        vertical-align: middle;\n",
       "    }\n",
       "\n",
       "    .dataframe tbody tr th {\n",
       "        vertical-align: top;\n",
       "    }\n",
       "\n",
       "    .dataframe thead th {\n",
       "        text-align: right;\n",
       "    }\n",
       "</style>\n",
       "<table border=\"1\" class=\"dataframe\">\n",
       "  <thead>\n",
       "    <tr style=\"text-align: right;\">\n",
       "      <th></th>\n",
       "      <th>date</th>\n",
       "      <th>temp_c</th>\n",
       "      <th>humidity</th>\n",
       "    </tr>\n",
       "  </thead>\n",
       "  <tbody>\n",
       "    <tr>\n",
       "      <th>0</th>\n",
       "      <td>2023-02-28 13:23:00</td>\n",
       "      <td>11.4</td>\n",
       "      <td>57.9</td>\n",
       "    </tr>\n",
       "    <tr>\n",
       "      <th>1</th>\n",
       "      <td>2023-02-28 13:24:00</td>\n",
       "      <td>11.4</td>\n",
       "      <td>51.0</td>\n",
       "    </tr>\n",
       "    <tr>\n",
       "      <th>2</th>\n",
       "      <td>2023-02-28 13:25:00</td>\n",
       "      <td>10.5</td>\n",
       "      <td>46.3</td>\n",
       "    </tr>\n",
       "    <tr>\n",
       "      <th>3</th>\n",
       "      <td>2023-02-28 13:26:00</td>\n",
       "      <td>9.6</td>\n",
       "      <td>48.1</td>\n",
       "    </tr>\n",
       "    <tr>\n",
       "      <th>4</th>\n",
       "      <td>2023-02-28 13:27:00</td>\n",
       "      <td>9.0</td>\n",
       "      <td>50.3</td>\n",
       "    </tr>\n",
       "  </tbody>\n",
       "</table>\n",
       "</div>"
      ],
      "text/plain": [
       "                 date  temp_c  humidity\n",
       "0 2023-02-28 13:23:00    11.4      57.9\n",
       "1 2023-02-28 13:24:00    11.4      51.0\n",
       "2 2023-02-28 13:25:00    10.5      46.3\n",
       "3 2023-02-28 13:26:00     9.6      48.1\n",
       "4 2023-02-28 13:27:00     9.0      50.3"
      ]
     },
     "execution_count": 23,
     "metadata": {},
     "output_type": "execute_result"
    }
   ],
   "source": [
    "# Display dataframe preview\n",
    "merged_df.head()"
   ]
  },
  {
   "cell_type": "code",
   "execution_count": 16,
   "metadata": {},
   "outputs": [
    {
     "name": "stdout",
     "output_type": "stream",
     "text": [
      "<class 'pandas.core.frame.DataFrame'>\n",
      "RangeIndex: 241532 entries, 0 to 241531\n",
      "Data columns (total 3 columns):\n",
      " #   Column    Non-Null Count   Dtype  \n",
      "---  ------    --------------   -----  \n",
      " 0   date      241532 non-null  object \n",
      " 1   temp_c    241532 non-null  float64\n",
      " 2   humidity  241532 non-null  float64\n",
      "dtypes: float64(2), object(1)\n",
      "memory usage: 5.5+ MB\n"
     ]
    }
   ],
   "source": [
    "merged_df.info()"
   ]
  },
  {
   "cell_type": "code",
   "execution_count": 22,
   "metadata": {},
   "outputs": [
    {
     "name": "stdout",
     "output_type": "stream",
     "text": [
      "Date column type: datetime64[ns]\n"
     ]
    }
   ],
   "source": [
    "# Convert the 'date' column to datetime\n",
    "merged_df['date'] = pd.to_datetime(merged_df['date'])\n",
    "\n",
    "print(f'Date column type: {merged_df.date.dtypes}')"
   ]
  }
 ],
 "metadata": {
  "kernelspec": {
   "display_name": "dev",
   "language": "python",
   "name": "python3"
  },
  "language_info": {
   "codemirror_mode": {
    "name": "ipython",
    "version": 3
   },
   "file_extension": ".py",
   "mimetype": "text/x-python",
   "name": "python",
   "nbconvert_exporter": "python",
   "pygments_lexer": "ipython3",
   "version": "3.10.13"
  }
 },
 "nbformat": 4,
 "nbformat_minor": 2
}
